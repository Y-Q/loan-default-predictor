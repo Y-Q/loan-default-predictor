{
 "cells": [
  {
   "cell_type": "markdown",
   "metadata": {},
   "source": [
    "# Loan Default Predictor\n",
    "\n",
    "## Goal:\n",
    "To predict the probability of default of a loan over its life. \n",
    "\n",
    "## Data used: \n",
    "1.\t2012 – 2013 Loan Status data downloaded from LendingClub<br>\n",
    "2.\tinterest rate.csv: treasury bond coupon rate between 2011 and 2017, as a way to indicate general economic situation and cost of credit\n"
   ]
  },
  {
   "cell_type": "code",
   "execution_count": 2,
   "metadata": {},
   "outputs": [],
   "source": [
    "import pandas as pd\n",
    "import numpy as np\n",
    "from matplotlib import pyplot as plt\n",
    "%matplotlib inline\n",
    "\n",
    "from sklearn.ensemble import RandomForestClassifier\n",
    "from sklearn.naive_bayes import GaussianNB\n",
    "from sklearn.svm import LinearSVC\n",
    "\n",
    "from sklearn.grid_search import GridSearchCV\n",
    "from sklearn.pipeline import Pipeline\n",
    "from sklearn import model_selection, preprocessing\n",
    "from sklearn.metrics import roc_auc_score, roc_curve"
   ]
  },
  {
   "cell_type": "code",
   "execution_count": null,
   "metadata": {
    "collapsed": true
   },
   "outputs": [],
   "source": [
    "loan = pd.read_csv(r'Loan Predictor/LoanStats3b.csv') # (188181, 137)\n",
    "treasury = pd.read_csv(r'Loan Predictor/interest rate.csv')\n",
    "loan = loan[loan['term'] == ' 36 months'].reset_index(drop = True) # (143892, 137)"
   ]
  },
  {
   "cell_type": "markdown",
   "metadata": {},
   "source": [
    "### Read files\n",
    "Remove data that's not 36 months term"
   ]
  },
  {
   "cell_type": "markdown",
   "metadata": {},
   "source": [
    "###  Data processing\n",
    "1>  convert dates <br> 2> convert strings to numbers<br> 3> convert categorical strings to coding integers<br>4> use treasury rate as a feature based on the issue date"
   ]
  },
  {
   "cell_type": "code",
   "execution_count": 4,
   "metadata": {
    "collapsed": true
   },
   "outputs": [],
   "source": [
    "loan['issue_d'] = loan['issue_d'].apply(lambda date: pd.to_datetime('-'.join(['20' + date.split('-')[1],date.split('-')[0]])))\n",
    "loan['earliest_cr_line'] = loan['earliest_cr_line'].apply(lambda date: pd.to_datetime('-'.join(['20' + date.split('-')[1],date.split('-')[0]])))\n",
    "\n",
    "loan['num_days_since_1st_issue'] = (loan['issue_d'] - min(loan['issue_d'])).dt.days \n",
    "loan['issue_m'] = [x.month for x in loan['issue_d']]\n",
    "loan['num_days_since_1st_cr_line'] = (loan['earliest_cr_line'] - min(loan['earliest_cr_line'])).dt.days \n"
   ]
  },
  {
   "cell_type": "code",
   "execution_count": 5,
   "metadata": {
    "collapsed": true
   },
   "outputs": [],
   "source": [
    "loan['int_rate'] = loan['int_rate'].apply(lambda percent: np.nan if pd.isnull(percent) else float(percent.strip('%')) / 100)\n",
    "loan['revol_util'] = loan['revol_util'].apply(lambda percent: np.nan if pd.isnull(percent) else float(percent.strip('%')) / 100)\n",
    "\n",
    "loan['emp_length'] = loan['emp_length'].apply(lambda x: x[0:2])\n",
    "loan['emp_length'] = loan['emp_length'].replace({'n/': np.nan, '< ':0.5}).astype(np.float)"
   ]
  },
  {
   "cell_type": "code",
   "execution_count": 6,
   "metadata": {
    "collapsed": true
   },
   "outputs": [],
   "source": [
    "loan[\"loan_status\"] = loan[\"loan_status\"].replace({'Fully Paid': 0, 'Charged Off':1})\n",
    "\n",
    "# feature expansions to include more dummy variables\n",
    "# tried between one hot encoding and lable encoding - results are not significant either way \n",
    "#loan = pd.concat([loan, pd.get_dummies(loan[\"verification_status\"])], axis=1)\n",
    "#loan = pd.concat([loan, pd.get_dummies(loan[\"home_ownership\"])], axis=1)\n",
    "#loan = pd.concat([loan, pd.get_dummies(loan[\"purpose\"])], axis=1)\n",
    "\n",
    "loan[\"purpose_cat\"] = loan[\"purpose\"].astype('category').cat.codes\n",
    "loan[\"verification_status_cat\"] = loan[\"verification_status\"].astype('category').cat.codes\n",
    "loan[\"home_ownership_cat\"] = loan[\"home_ownership\"].astype('category').cat.codes"
   ]
  },
  {
   "cell_type": "code",
   "execution_count": 7,
   "metadata": {
    "collapsed": true
   },
   "outputs": [],
   "source": [
    "treasury['date'] = pd.to_datetime(treasury['date'])\n",
    "loan = pd.merge(loan, treasury, how='left', left_on=['issue_d'],right_on=['date'])"
   ]
  },
  {
   "cell_type": "markdown",
   "metadata": {},
   "source": [
    "33% of default ==> imbalanced binary classes ==> AUC would be the best to quantity accuracy"
   ]
  },
  {
   "cell_type": "code",
   "execution_count": 8,
   "metadata": {},
   "outputs": [
    {
     "data": {
      "text/plain": [
       "0.33302640632455505"
      ]
     },
     "execution_count": 8,
     "metadata": {},
     "output_type": "execute_result"
    }
   ],
   "source": [
    "loan['loan_status'].std()"
   ]
  },
  {
   "cell_type": "markdown",
   "metadata": {},
   "source": [
    "### Feature selection based on column types and data quality\n",
    "\n",
    "1> remove columns where there are more than 20% data missing <br> 2> Unfortunately Python RF doesn't take date columns or string columns. Seperate numeric columns from non-numeric columns - each category was mannually examed to decide which columns to include/exclude/transform"
   ]
  },
  {
   "cell_type": "code",
   "execution_count": 9,
   "metadata": {
    "collapsed": true
   },
   "outputs": [],
   "source": [
    "null_ratio = loan.isnull().sum() / loan.shape[0]\n",
    "non_null_columns = null_ratio[null_ratio < 0.2].index #86\n",
    "numeric_columns = loan[non_null_columns]._get_numeric_data().columns #66\n",
    "non_numeric_columns = list(set(non_null_columns) - set(numeric_columns)) #20"
   ]
  },
  {
   "cell_type": "markdown",
   "metadata": {},
   "source": [
    "### Remove features that are considered 'hindsight information'. Keep only columns that were available at the time of loan issuance minus grade/sub grade"
   ]
  },
  {
   "cell_type": "code",
   "execution_count": 10,
   "metadata": {
    "collapsed": true
   },
   "outputs": [],
   "source": [
    "hindsight_columns = ['last_pymnt_amnt','total_rec_late_fee', 'recoveries', 'collection_recovery_fee',\n",
    "                     'total_pymnt', 'total_pymnt_inv', 'total_rec_prncp', 'total_rec_int',\n",
    "                     'total_rec_late_fee', 'recoveries', 'collection_recovery_fee',\n",
    "                     'chargeoff_within_12_mths', 'delinq_amnt',\n",
    "                     'policy_code', 'out_prncp', 'out_prncp_inv'] # the last 3 columns have the same number throughout, therefore providing no information\n",
    "\n",
    "ML_columns = list(set(numeric_columns)-set(hindsight_columns))\n",
    "non_na_data = loan[ML_columns].dropna() #97345\n",
    "\n",
    "X = non_na_data.drop('loan_status',axis = 1)\n",
    "Y = non_na_data['loan_status']\n",
    "X_train, X_test, Y_train, Y_test = model_selection.train_test_split(X, Y, test_size=0.3)"
   ]
  },
  {
   "cell_type": "markdown",
   "metadata": {},
   "source": [
    "### ML1 - Random Forest\n",
    "parameters were tuned using GridSearchCV"
   ]
  },
  {
   "cell_type": "code",
   "execution_count": 11,
   "metadata": {},
   "outputs": [
    {
     "name": "stdout",
     "output_type": "stream",
     "text": [
      "0.6569303415075218\n",
      "{'max_depth': 18, 'min_samples_leaf': 60, 'min_samples_split': 50}\n"
     ]
    }
   ],
   "source": [
    "parameters={'max_depth': [18],\n",
    "            'min_samples_leaf': [60],\n",
    "            'min_samples_split' : [50]}\n",
    "\n",
    "rf_search = GridSearchCV(RandomForestClassifier(), parameters, scoring = 'roc_auc')\n",
    "\n",
    "rf_search.fit(X_train, Y_train)\n",
    "print (rf_search.best_score_)\n",
    "print (rf_search.best_params_)"
   ]
  },
  {
   "cell_type": "code",
   "execution_count": 12,
   "metadata": {},
   "outputs": [
    {
     "data": {
      "text/plain": [
       "<matplotlib.text.Text at 0xe329ba8>"
      ]
     },
     "execution_count": 12,
     "metadata": {},
     "output_type": "execute_result"
    },
    {
     "data": {
      "image/png": "[encoded data removed]",
      "text/plain": [
       "<matplotlib.figure.Figure at 0xc4c3780>"
      ]
     },
     "metadata": {},
     "output_type": "display_data"
    }
   ],
   "source": [
    "rf = rf_search.best_estimator_\n",
    "\n",
    "feat_imp = pd.Series(rf.feature_importances_, X.columns).sort_values(ascending=True)\n",
    "feat_imp[-10:].plot(kind='barh', title='Feature Importance Score')\n",
    "plt.ylabel('Top 10 Important Feature')"
   ]
  },
  {
   "cell_type": "code",
   "execution_count": 13,
   "metadata": {},
   "outputs": [
    {
     "name": "stdout",
     "output_type": "stream",
     "text": [
      "Accuracy: 0.8773\n",
      "ROC Curve: 0.6484\n"
     ]
    }
   ],
   "source": [
    "proba_default = rf.predict_proba(X_test)[:, 1]\n",
    "accuracy = rf.score(X_test, Y_test)\n",
    "auc =  roc_auc_score(Y_test, proba_default)\n",
    "\n",
    "print (\"Accuracy: %0.4f\" %accuracy)\n",
    "print (\"ROC Curve: %0.4f\" %auc)"
   ]
  },
  {
   "cell_type": "code",
   "execution_count": 14,
   "metadata": {},
   "outputs": [
    {
     "data": {
      "text/plain": [
       "<matplotlib.text.Text at 0x12776630>"
      ]
     },
     "execution_count": 14,
     "metadata": {},
     "output_type": "execute_result"
    },
    {
     "data": {
      "image/png": "[encoded data removed]",
      "text/plain": [
       "<matplotlib.figure.Figure at 0x1bf96668>"
      ]
     },
     "metadata": {},
     "output_type": "display_data"
    }
   ],
   "source": [
    "false_positive, true_positive, _ = roc_curve(Y_test, proba_default)\n",
    "plt.plot(false_positive, false_positive, linestyle='--')\n",
    "plt.plot(false_positive, true_positive)\n",
    "plt.xlabel('False Positive Rate')\n",
    "plt.ylabel('True Positive Rate')\n",
    "plt.title('Model AUROC is %0.4f' %auc)"
   ]
  },
  {
   "cell_type": "markdown",
   "metadata": {},
   "source": [
    "### ML2 - Gaussian Naive Bay"
   ]
  },
  {
   "cell_type": "code",
   "execution_count": 15,
   "metadata": {},
   "outputs": [
    {
     "name": "stdout",
     "output_type": "stream",
     "text": [
      " The gnb best_score is :  0.6327341475330825\n",
      "Accuracy: 0.6005\n"
     ]
    }
   ],
   "source": [
    "pipeline = Pipeline(steps=[('standardize', preprocessing.StandardScaler()),('model', GaussianNB())])\n",
    "\n",
    "gnb_search = GridSearchCV(estimator=pipeline, param_grid=dict(), scoring = 'roc_auc')\n",
    "\n",
    "gnb_search.fit(X_train, Y_train)\n",
    "\n",
    "print(\" The gnb best_score is : \", gnb_search.best_score_)\n",
    "\n",
    "gnb = gnb_search.best_estimator_\n",
    "accuracy = gnb.score(X_test, Y_test)\n",
    "print (\"Accuracy: %0.4f\" %accuracy)"
   ]
  },
  {
   "cell_type": "markdown",
   "metadata": {},
   "source": [
    "### ML3 - Linear SVC\n",
    "parameters were tuned using GridSearchCV"
   ]
  },
  {
   "cell_type": "code",
   "execution_count": 16,
   "metadata": {},
   "outputs": [
    {
     "name": "stdout",
     "output_type": "stream",
     "text": [
      "Pipeline(steps=[('standardize', StandardScaler(copy=True, with_mean=True, with_std=True)), ('model', LinearSVC(C=1.0, class_weight='balanced', dual=True, fit_intercept=True,\n",
      "     intercept_scaling=1, loss='hinge', max_iter=1400, multi_class='ovr',\n",
      "     penalty='l2', random_state=None, tol=0.0001, verbose=0))])\n",
      " The svc best_score is :  0.6700532465250943\n",
      "Accuracy: 0.5997\n"
     ]
    }
   ],
   "source": [
    "pipeline = Pipeline(steps=[('standardize', preprocessing.StandardScaler()),('model', LinearSVC()) ])\n",
    "\n",
    "parameters={'model__class_weight': ['balanced'],\n",
    "            'model__loss': [ 'hinge'],\n",
    "            'model__max_iter' : [1400]}\n",
    "\n",
    "svc_search = GridSearchCV(estimator=pipeline, param_grid = parameters, scoring = 'roc_auc')\n",
    "\n",
    "svc_search.fit(X_train, Y_train)\n",
    "\n",
    "print(svc_search.best_estimator_)\n",
    "print(\" The svc best_score is : \", svc_search.best_score_)\n",
    "\n",
    "svc = svc_search.best_estimator_\n",
    "accuracy = svc.score(X_test, Y_test)\n",
    "print (\"Accuracy: %0.4f\" %accuracy)"
   ]
  }
 ],
 "metadata": {
  "kernelspec": {
   "display_name": "Python 3",
   "language": "python",
   "name": "python3"
  },
  "language_info": {
   "codemirror_mode": {
    "name": "ipython",
    "version": 3
   },
   "file_extension": ".py",
   "mimetype": "text/x-python",
   "name": "python",
   "nbconvert_exporter": "python",
   "pygments_lexer": "ipython3",
   "version": "3.6.1"
  }
 },
 "nbformat": 4,
 "nbformat_minor": 2
}
